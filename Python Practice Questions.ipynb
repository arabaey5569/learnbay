{
 "cells": [
  {
   "cell_type": "markdown",
   "id": "43eace0d-3cb0-489c-9580-6a5644218471",
   "metadata": {},
   "source": [
    "18.What is the key difference between a list and a tuple?\n",
    "19.What is slicing in Python?\n",
    "20.Define a variable num and assign an int value to it. Check the memory consumed by num.\n",
    "21.When we import a module. It is available in which namespace?\n",
    "22.How to access a function which is a part of a module?\n",
    "23.What is the difference between a function and a method?\n",
    "24.What is PEP 8?\n",
    "25.Define a list of squares of even numbers from 2 to 20 using\n",
    "26.String is mutable or immutable?\n",
    "27.What is pickling and unpickling in Python?\n",
    "28.What is anonymous function in Python?\n",
    "29.What is the difference between Series and Dataframe?\n",
    "30.The following is a Series or a Dataframe?\n",
    "Name\n",
    "0 Amit\n",
    "1 Sujata\n",
    "2 Kalaipriya\n",
    "3 Nitin\n",
    "4 Ranjith\n",
    "5 Arthi\n",
    "6 Arvind\n",
    "7 Gyan\n",
    "8 Harshith\n",
    "9 Neha\n",
    "31.Why Python is called interpreted?\n",
    "32.What is a generator in Python?\n",
    "33.Tuple comprehension returns a tuple, generator?\n",
    "34. What is shallow copy and deep copy?\n",
    "35.Name any two compiled languages.\n",
    "36. How do we access a method on an object?\n",
    "37.What is a keyworded argument?\n",
    "38.What are the negative indexes?\n",
    "39.When do we get attribute error?\n",
    "40.When do we get key error?\n",
    "41.What is exceptional handling and why is it used?\n",
    "42.Does Python support object-oriented programming?\n",
    "43. Can we keep a class in a module?\n",
    "44.Can we use append() on a string?\n",
    "45.What is the difference between extend() and append() on a list?\n",
    "46.Which of the following is not a sequence type?\n",
    "i. List\n",
    "ii. Tuple\n",
    "iii. Set\n",
    "iv. String\n",
    "47. What is a binary search method?\n",
    "48.Name any three iterator objects?\n",
    "49.Dictionary is mutable or immutable?\n",
    "50.Which function do we use to get the list of all the example datasets in Seaborn?\n",
    "51.Check the version of Seaborn?\n",
    "52.Which function do we use to plot a matplotlib plot on Seaborn defaults?\n",
    "53.Which of the following supports the vectorize operations?\n",
    "i. List\n",
    "ii. NumPy array\n",
    "54. Which of the following can not contain heterogenous elements?\n",
    "i. List\n",
    "ii. Array\n",
    "55. Which of the following uses pointers to access an element?\n",
    "i. List\n",
    "ii. Array\n",
    "56.What is .loc and .iloc in Pandas?\n",
    "57. Which function gives statistical summary in Pandas?\n",
    "58.Can we have heterogenous elements in a Series?\n",
    "59. A data frame is like a 1D array structure?\n",
    "60.Pandas has been developed over NumPy. True or False?\n",
    "61.What is the other name of figure and axes approach in Matplotlib?\n",
    "62.Define functional approach in Matplotlib.\n",
    "63.What is the universal function to plot on x and y axis in Matplotlib?\n",
    "64.Which function is used to create a regression plot in Seaborn?\n",
    "65.Which function plots a multi panel figure in Seaborn?\n",
    "66.What is univariate and bivariate analysis?\n",
    "67.What is the magical command in Matplotlib?\n",
    "68. What is the difference between count plot and bar plot?\n",
    "69.Which function is used to display an image in Matplotlib?\n",
    "70.What is the full form of NumPy?\n",
    "71.What is the full form of SciPy?\n",
    "72. Which function is used to load an example dataset in Seaborn?\n",
    "73. Do we need to pass the extension while loading an example dataset in Seaborn?\n",
    "74.Create a 2-D array of the shape 3*4 that has all the elements as 0.\n",
    "75.Create an array of random integer values of the shape 4*4 and then convert into a 3D array of the shape 2*4*2.\n",
    "76.The following array is arr.\n",
    "array([[[99, 83, 22, 85],\n",
    "[86, 64, 30, 26],\n",
    "[54, 98, 18, 92],\n",
    "[63, 63, 38, 74]],\n",
    "[[48, 57, 18, 88],\n",
    "[84, 44, 13, 44],\n",
    "[73, 65, 38, 45],\n",
    "[89, 68, 44, 49]],\n",
    "[[75, 77, 97, 44],\n",
    "[88, 69, 50, 68],\n",
    "[64, 59, 53, 45],\n",
    "[34, 42, 92, 86]]])\n",
    "Slice the following array from the above array\n",
    "array([[18],\n",
    "[13],\n",
    "[38],\n",
    "[44]])\n",
    "77. Can we pass a list as a key to a dictionary?\n",
    "78. A tuple can be passed as a key to a dictionary. True or False?\n",
    "79. Create a dictionary using dict comprehension where keys are the even numbers from 2 to 10 and the values are the squares of the keys.\n",
    "80. Write a program to find the index of an element from the following list using binary search method.\n",
    "[10, 20, 30, 40, 50, 60, 70, 80]\n",
    "81. Write the syntax to slice a 3D array\n",
    "82. There is a file abc.py that has the following code. If we execute it from the command prompt what will be the output?\n",
    "print(‘Hello’)\n",
    "print(__name__)\n",
    "83. If we import the above file abc.py in a Jupyter Notebook and then we execute the following command. What will be the output?\n",
    "print(abc. __name__)\n",
    "84.What is a class in Python?\n",
    "85.The variables are stored in which area in the memory in a .py file.\n",
    "86. Check the Python version.\n",
    "87.Print all the available keywords in Python.\n",
    "88.print() returns the value it prints. True or False?\n",
    "89.Print the list of all the available built-in names in Python.\n",
    "90.Indentation defines the scope in Python. True or False?\n",
    "91.Define a tuple of a single element without using ().\n",
    "92.Bytes is mutable. True or False?\n",
    "93.We can not store a dictionary inside a set. True or False?\n",
    "94.A frozenset supports add().\n",
    "95.How can we use a function that is available in built-in names?\n",
    "96.How can we use a method that is defined inside a class?\n",
    "97.Write a generator function to find the factorial of a number.\n",
    "98.Print the character that is available at the Unicode value 189.\n",
    "99. Write the short cut key to convert the mode of a cell from markdown to code.\n",
    "100. Create a data frame that has only single column."
   ]
  },
  {
   "cell_type": "markdown",
   "id": "408a6ad7-0482-4f34-9673-5594ec2ef922",
   "metadata": {},
   "source": [
    "1. Why Python is important for data science?\n",
    "Python is crucial in data science due to its ease of use, powerful libraries, and ability to handle various data science tasks, including data analysis, machine learning, and visualization. Its extensive community support and scalability make it ideal for both small-scale projects and large-scale enterprise solutions. "
   ]
  },
  {
   "cell_type": "markdown",
   "id": "b04ecb66-463f-411c-ade4-772997bcfa44",
   "metadata": {},
   "source": [
    "2. Python is interpreted or compiled?<br>\n",
    "**-> interpreted**"
   ]
  },
  {
   "cell_type": "markdown",
   "id": "7b35db52-375c-4ccd-93db-bfd23f07f406",
   "metadata": {},
   "source": [
    "3. What is the extension of Python source code?<br>\n",
    "**-> .py**"
   ]
  },
  {
   "cell_type": "markdown",
   "id": "417b33e9-743c-4258-a225-f523a0a7a2b0",
   "metadata": {},
   "source": [
    "4. What is .pyc file?<br>\n",
    "**-> a pyc file is a compiled Python file. When you run a Python program, the interpreter compiles the source code into bytecode, which is a low-level set of instructions that can be executed by the Python virtual machine (PVM). This bytecode is then saved as a . pyc file**"
   ]
  },
  {
   "cell_type": "markdown",
   "id": "0b09e63a-1ca7-40b0-8398-79332dbbb458",
   "metadata": {},
   "source": [
    "5. What is Jupyter Notebook?<br>\n",
    "**-> Jupyter Notebook is an open-source, web-based application that allows users to create and share documents containing live code, equations, visualizations, and narrative text. It's a popular tool for interactive computing and data analysis, particularly among data scientists, researchers, and educators.**"
   ]
  },
  {
   "cell_type": "markdown",
   "id": "5c2052e6-3b0c-4314-89f6-b5de820961e1",
   "metadata": {},
   "source": [
    "6. What is intermediate code known as in Python?<br>\n",
    "**-> Intermediate Code Generation in Compiler Design<br\n",
    "In the analysis-synthesis model of a compiler, the front end of a compiler translates a source program into an independent intermediate code, then the back end of the compiler uses this intermediate code to generate the target code (which can be understood by the machine)**"
   ]
  },
  {
   "cell_type": "markdown",
   "id": "2b6a1c06-580c-4be5-970c-934ea38b4c3f",
   "metadata": {},
   "source": [
    "7. How to check whether an object is an iterable or not?<br>\n",
    "**-> How to check if an object is iterable in Python?<br>\n",
    "In simple words, any object that could be looped over is iterable. For instance, a list object is iterable and so is an str object. The list numbers and string names are iterables because we are able to loop over them (using a for-loop in this case).  In this article, we are going to see how to check if an object is iterable in Python.<br>\n",
    "Checking an object’s iterability in Python:<br>\n",
    "Method 1: Using __iter__ method check.<br>\n",
    "Method 2: Using the Iterable class of collections.abc module.<br>\n",
    "Method 3: Using the iter() builtin function.**"
   ]
  },
  {
   "cell_type": "markdown",
   "id": "53bb6dd3-66f7-42b0-b0ca-0cd48b9b40c8",
   "metadata": {},
   "source": [
    "8. Why is Python called interpreted language?<br>\n",
    "**-> Python is called an interpreted language because it executes code line by line, using an interpreter, rather than compiling the entire code into machine code at once before execution. This means the Python interpreter reads, translates, and executes each line of code directly, without needing a separate compilation step.**"
   ]
  },
  {
   "cell_type": "markdown",
   "id": "9ffaa48b-71c2-48f5-8693-f9b7a7e4bb23",
   "metadata": {},
   "source": [
    "9. What are the two stages of type checking?<br>\n",
    "**-> The help of its own Interpreter does type checking in Python. Since Python is a dynamic language, it doesn't force the user to enforce the type of the objects, which can lead to bugs, and errors will be hard to find. To overcome this, Python can be used in conjunction with various other tools and implement features of static type checking along with its own Duck Typing.<br>\n",
    "There are two different types of type systems followed by different programming languages, which are shown below.\n",
    "- Static Typed Language: The type checking of the variable type is done at compile-time. Also, the type system of the language forces to explicitly declare the 'data-type' of the variable before its usage\n",
    "- Dynamic Typed Language: The type checking of the variable type is done at run-time. Also, the type system of the language doesn't force to explicitly declare the 'data-type' of the variable before its usage.**"
   ]
  },
  {
   "cell_type": "markdown",
   "id": "eea4c5e9-9f6b-41bc-9d49-36168da081a0",
   "metadata": {},
   "source": [
    "10.What is the difference between continue and pass statements in Python?<br>\n",
    "**-> Continue forces the loop to start at the next iteration, whereas pass means, “there is no code to execute here,” and it will continue through the remainder of the loop body.**"
   ]
  },
  {
   "cell_type": "markdown",
   "id": "4b926e23-d096-4a7a-ac04-704bedd49ada",
   "metadata": {},
   "source": [
    "11.What happens when we restart the kernel?<br>\n",
    "**-> Kernels have the ability to restart a single kernel without disrupting the rest of the notebook which is useful when the notebook is stuck or unresponsive. You can restart a single kernel by clicking the Restart Kernel button in the top right of the notebooks IDE.**"
   ]
  },
  {
   "cell_type": "markdown",
   "id": "4dfc3133-bee1-4e70-b928-45951180f8cd",
   "metadata": {},
   "source": [
    "12.What is a sequence type and no sequence type in Python?<br>\n",
    "**-> Sequential data types, like lists, have an order to them. Non-sequential data sets have no order. Sets in Python are similar to sets in mathematics and duplicates are not allowed. Dictionaries are key-value pairs just like a word and its meaning in a real life book.**"
   ]
  },
  {
   "cell_type": "markdown",
   "id": "07d2d975-0e09-4721-8b2d-76c473961351",
   "metadata": {},
   "source": [
    "13.List is hashable or unhashable?<br>\n",
    "**-> Lists and dictionaries are unhashable because we cannot call the hash() method on them.<br>\n",
    "Mutable objects, or objects that can be modified, aren't hashable. A list can be modified in-place: mylist.append('bar') or mylist.pop(0). You can't safely hash a mutable object because you can't guarantee that the object hasn't changed since you last saw it. You'll find that list, set, and other mutable types don't have a __hash__() method.**"
   ]
  },
  {
   "cell_type": "markdown",
   "id": "f7cf8175-874f-41af-b4ab-86f1d64e8162",
   "metadata": {},
   "source": [
    "14.What is a docstring in Python?<br>\n",
    "**-> Python documentation strings (or docstrings) provide a convenient way of associating documentation with Python modules, functions, classes, and methods. It's specified in source code that is used, like a comment, to document a specific segment of code. Unlike conventional source code comments, the docstring should describe what the function does, not how.<br>\n",
    "Declaring Docstrings: The docstrings are declared using '''triple single quotes''' or \"\"\" triple double quotes \"\"\" just below the class, method, or function declaration. All functions should have a docstring.<br>\n",
    "Accessing Docstrings: The docstrings can be accessed using the __doc__ method of the object or using the help function. The below examples demonstrate how to declare and access a docstring.**"
   ]
  },
  {
   "cell_type": "markdown",
   "id": "078c9010-bc03-476e-9b42-bd6726c9da31",
   "metadata": {},
   "source": [
    "15.How to check Python version?<br>\n",
    "**-> In the command prompt, type python –version or python3 –version. If installed, it will any likely show the specific version number of such program**"
   ]
  },
  {
   "cell_type": "markdown",
   "id": "2902afa4-bd8a-45aa-827b-1d5922757379",
   "metadata": {},
   "source": [
    "16.What is the difference between iterable and iterator in Python?<br>\n",
    "**-> Iterators control loops, allowing you to traverse arbitrary data containers one item at a time ; An iterator is an object with a next (Python 2) or __next__ (Python 3) method.\n",
    "Whenever you use a for loop, or map, or a list comprehension, etc. in Python, the next method is called automatically to get each item from the iterator, thus going through the process of iteration.<br>\n",
    "An ITERATOR is an object:<br>**\n",
    "- **with state that remembers where it is during iteration,**\n",
    "- **with a __next__ method that:**\n",
    "    - **returns the next value in the iteration**\n",
    "    - **updates the state to point at the next value**\n",
    "    - **signals when it is done by raising StopIteration**\n",
    "- **and that is self-iterable (meaning that it has an __iter__ method that returns self).**\n",
    "\n",
    "<br>**Iterables, on the other hand, provide the data that you want to iterate over<br>\n",
    "An iterable is an object that has an __iter__ method which returns an iterator, or which defines a __getitem__ method that can take sequential indexes starting from zero (and raises an IndexError when the indexes are no longer valid). So an iterable is an object that you can get an iterator from.<br>\n",
    "An ITERABLE is:<br>**\n",
    "- **anything that can be looped over (i.e. you can loop over a string or file) or**\n",
    "- **anything that can appear on the right-side of a for-loop: for x in iterable: ... or**\n",
    "- **anything you can call with iter() that will return an ITERATOR: iter(obj) or\n",
    "an object that defines __iter__ that returns a fresh ITERATOR, or it may have a __getitem__ method suitable for indexed lookup.**"
   ]
  },
  {
   "cell_type": "markdown",
   "id": "12d7ac2f-45a5-4ba8-8e9c-23ed9553bb5d",
   "metadata": {},
   "source": [
    "17.What is scope in Python?<br>\n",
    "**-> A variable is only available from inside the region it is created. This is called scope.<br>\n",
    "A variable created inside a function belongs to the <u>local</u> scope of that function, and can only be used inside that function.<br>\n",
    "A variable created in the main body of the Python code is a <u>global</u> variable and belongs to the global scope. Global variables are available from within any scope, global and local.**\n"
   ]
  },
  {
   "cell_type": "code",
   "execution_count": null,
   "id": "b87475b8-c440-4641-9eba-d0bb35f64d32",
   "metadata": {},
   "outputs": [],
   "source": []
  }
 ],
 "metadata": {
  "kernelspec": {
   "display_name": "Python 3 (ipykernel)",
   "language": "python",
   "name": "python3"
  },
  "language_info": {
   "codemirror_mode": {
    "name": "ipython",
    "version": 3
   },
   "file_extension": ".py",
   "mimetype": "text/x-python",
   "name": "python",
   "nbconvert_exporter": "python",
   "pygments_lexer": "ipython3",
   "version": "3.12.7"
  }
 },
 "nbformat": 4,
 "nbformat_minor": 5
}
